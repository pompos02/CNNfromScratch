{
 "cells": [
  {
   "cell_type": "markdown",
   "metadata": {},
   "source": [
    "# ΓΙΑΝΝΗΣ ΚΑΡΑΒΕΛΛΑΣ"
   ]
  },
  {
   "cell_type": "markdown",
   "metadata": {},
   "source": [
    "# CIFAR-10 "
   ]
  },
  {
   "cell_type": "markdown",
   "metadata": {},
   "source": [
    "# CNN helper functions and classes\n"
   ]
  },
  {
   "cell_type": "code",
   "execution_count": 25,
   "metadata": {},
   "outputs": [],
   "source": [
    "import cupy as cp\n",
    "import numpy as np\n",
    "import pickle\n",
    "from tqdm import tqdm\n",
    "import matplotlib.pyplot as plt\n",
    "import seaborn as sns\n",
    "from sklearn.metrics import confusion_matrix, classification_report\n",
    "import pandas as pd"
   ]
  },
  {
   "cell_type": "markdown",
   "metadata": {},
   "source": [
    "Loading data functions"
   ]
  },
  {
   "cell_type": "code",
   "execution_count": 26,
   "metadata": {},
   "outputs": [],
   "source": [
    "def load_batch(file):\n",
    "    with open(file, 'rb') as f:\n",
    "        dict = pickle.load(f, encoding='bytes')\n",
    "        data = dict[b'data']\n",
    "        labels = dict[b'labels']\n",
    "        data = data.reshape(len(data), 3, 32, 32).astype('float32') / 255.0\n",
    "        labels = np.array(labels)\n",
    "    return data, labels\n",
    "\n",
    "def load_cifar10():\n",
    "    train_data = []\n",
    "    train_labels = []\n",
    "    for i in range(1, 6):\n",
    "        data, labels = load_batch(f'cifar-10-python/cifar-10-batches-py/data_batch_{i}')\n",
    "        train_data.append(data)\n",
    "        train_labels.append(labels)\n",
    "    X_train = np.concatenate(train_data)\n",
    "    y_train = np.concatenate(train_labels)\n",
    "    X_test, y_test = load_batch('cifar-10-python/cifar-10-batches-py/test_batch')\n",
    "    return X_train, y_train, X_test, y_test\n",
    "\n",
    "X_train, y_train, X_test, y_test = load_cifar10()\n"
   ]
  },
  {
   "cell_type": "markdown",
   "metadata": {},
   "source": [
    "transformation to cupy arrays for gpu"
   ]
  },
  {
   "cell_type": "code",
   "execution_count": 27,
   "metadata": {},
   "outputs": [],
   "source": [
    "X_train = cp.array(X_train, dtype=cp.float32)\n",
    "y_train = cp.array(y_train, dtype=cp.int32)\n",
    "X_test = cp.array(X_test, dtype=cp.float32)\n",
    "y_test = cp.array(y_test, dtype=cp.int32)"
   ]
  },
  {
   "cell_type": "markdown",
   "metadata": {},
   "source": [
    "Functions to optimize convolution"
   ]
  },
  {
   "cell_type": "code",
   "execution_count": 28,
   "metadata": {},
   "outputs": [],
   "source": [
    "def get_im2col_indices(x_shape, field_height, field_width, padding, stride):\n",
    "    # Unpack the input dimensions\n",
    "    N, C, H, W = x_shape  # N: batch size, C: channels, H: height, W: width\n",
    "\n",
    "    # Calculate the dimensions of the output\n",
    "    out_height = (H + 2 * padding - field_height) // stride + 1  # Output height after convolution\n",
    "    out_width = (W + 2 * padding - field_width) // stride + 1   # Output width after convolution\n",
    "\n",
    "    # Generate row indices for im2col\n",
    "    i0 = cp.repeat(cp.arange(field_height), field_width)  # Repeats each row index for the width of the filter\n",
    "    i0 = cp.tile(i0, C)  # Tiles the row indices for each channel\n",
    "\n",
    "    i1 = stride * cp.repeat(cp.arange(out_height), out_width)  # Starting positions for each sliding window along height\n",
    "\n",
    "    # Generate column indices for im2col\n",
    "    j0 = cp.tile(cp.arange(field_width), field_height)  # Tiles each column index for the height of the filter\n",
    "    j0 = cp.tile(j0, C)  # Tiles the column indices for each channel\n",
    "\n",
    "    j1 = stride * cp.tile(cp.arange(out_width), out_height)  # Starting positions for each sliding window along width\n",
    "\n",
    "    # Combine indices to get all positions for the patches\n",
    "    i = i0.reshape(-1, 1) + i1.reshape(1, -1)  # Final row indices for all patches\n",
    "    j = j0.reshape(-1, 1) + j1.reshape(1, -1)  # Final column indices for all patches\n",
    "\n",
    "    # Generate channel indices\n",
    "    k = cp.repeat(cp.arange(C), field_height * field_width).reshape(-1, 1)  # Channel indices for patches\n",
    "\n",
    "    return (k, i, j)  # Return indices for advanced indexing\n",
    "\n",
    "\n",
    "def im2col_indices(x_padded, field_height, field_width, padding, stride):\n",
    "    # Get indices for im2col\n",
    "    k, i, j = get_im2col_indices(x_padded.shape, field_height, field_width, padding, stride)\n",
    "\n",
    "    # Extract patches from the padded input using advanced indexing\n",
    "    cols = x_padded[:, k, i, j]  # Shape: (N, C * field_height * field_width, out_height * out_width)\n",
    "\n",
    "    C = x_padded.shape[1]  # Number of channels\n",
    "\n",
    "    # Reshape and transpose to get the im2col matrix\n",
    "    cols = cols.transpose(1, 2, 0).reshape(field_height * field_width * C, -1)\n",
    "    # Final shape: (C * field_height * field_width, N * out_height * out_width)\n",
    "\n",
    "    return cols  # Return the im2col matrix\n",
    "\n",
    "\n",
    "def col2im_indices(cols, x_shape, field_height, field_width, padding, stride):\n",
    "    # Unpack the input dimensions\n",
    "    N, C, H, W = x_shape  # N: batch size, C: channels, H: height, W: width\n",
    "\n",
    "    # Initialize the padded output tensor\n",
    "    x_padded = cp.zeros((N, C, H + 2 * padding, W + 2 * padding), dtype=cols.dtype)\n",
    "\n",
    "    # Get indices for col2im\n",
    "    k, i, j = get_im2col_indices(x_shape, field_height, field_width, padding, stride)\n",
    "\n",
    "    # Reshape cols to match the dimensions for addition\n",
    "    cols_reshaped = cols.reshape(C * field_height * field_width, -1, N)\n",
    "    cols_reshaped = cols_reshaped.transpose(2, 0, 1)  # Shape: (N, C * field_height * field_width, out_height * out_width)\n",
    "\n",
    "    # Add the values back into the padded output tensor using advanced indexing\n",
    "    cp.add.at(x_padded, (slice(None), k, i, j), cols_reshaped)  # Accumulates values at the specified indices\n",
    "\n",
    "    if padding == 0:\n",
    "        return x_padded  # Return without removing padding\n",
    "    return x_padded[:, :, padding:-padding, padding:-padding]  # Remove padding and return the final output\n"
   ]
  },
  {
   "cell_type": "code",
   "execution_count": 29,
   "metadata": {},
   "outputs": [],
   "source": [
    "class ConvLayer:\n",
    "    def __init__(self, in_channels, out_channels, kernel_size, stride=1, padding=0):\n",
    "        # Initialize the convolutional layer parameters\n",
    "        self.stride = stride                      # Stride length for the convolution\n",
    "        self.padding = padding                    # Amount of zero-padding added to the input\n",
    "        self.kernel_size = kernel_size            # Size of the convolution kernel \n",
    "        \n",
    "        # Initialize the weights using He initialization for ReLU activation functions\n",
    "        self.W = cp.random.randn(\n",
    "            out_channels,                         # Number of filters (output channels)\n",
    "            in_channels,                          # Number of input channels\n",
    "            kernel_size,                          # Height of the filter\n",
    "            kernel_size                           # Width of the filter\n",
    "        ).astype(cp.float32)\n",
    "        self.W *= cp.sqrt(2. / (in_channels * kernel_size * kernel_size))\n",
    "        \n",
    "        # Initialize biases to zeros for each filter\n",
    "        self.b = cp.zeros((out_channels, 1), dtype=cp.float32)\n",
    "            \n",
    "    def forward(self, x):\n",
    "        # Store the input shape for use in the backward pass\n",
    "        self.x_shape = x.shape\n",
    "        N, C, H, W = x.shape                      # Unpack batch size and input dimensions\n",
    "        \n",
    "        # Apply zero-padding to the input tensor\n",
    "        self.x_padded = cp.pad(\n",
    "            x,\n",
    "            pad_width=(\n",
    "                (0, 0),                           # No padding for the batch dimension\n",
    "                (0, 0),                           # No padding for the channel dimension\n",
    "                (self.padding, self.padding),     # Padding for the height dimension\n",
    "                (self.padding, self.padding)      # Padding for the width dimension\n",
    "            ),\n",
    "            mode='constant'                       # Pad with zeros\n",
    "        )\n",
    "        \n",
    "        # Transform the input tensor into columns using the im2col_indices function\n",
    "        self.cols = im2col_indices(\n",
    "            self.x_padded,\n",
    "            field_height=self.kernel_size,\n",
    "            field_width=self.kernel_size,\n",
    "            padding=0,                            # Padding is already applied, so set to zero here\n",
    "            stride=self.stride\n",
    "        )\n",
    "        \n",
    "        # Reshape the weights into a 2D matrix for matrix multiplication\n",
    "        W_col = self.W.reshape(\n",
    "            self.W.shape[0],                      # Number of filters\n",
    "            -1                                    # Flatten the rest (in_channels * kernel_size * kernel_size)\n",
    "        )\n",
    "        \n",
    "        # Perform the convolution as a matrix multiplication and add the biases\n",
    "        out = W_col @ self.cols + self.b          # Shape: (out_channels, N * out_height * out_width)\n",
    "        \n",
    "        # Calculate the output dimensions after the convolution\n",
    "        out_height = (H + 2 * self.padding - self.kernel_size) // self.stride + 1\n",
    "        out_width = (W + 2 * self.padding - self.kernel_size) // self.stride + 1\n",
    "        \n",
    "        # Reshape the output to match the expected dimensions\n",
    "        out = out.reshape(\n",
    "            self.W.shape[0],                      # Number of filters (out_channels)\n",
    "            out_height,                           # Output height\n",
    "            out_width,                            # Output width\n",
    "            N                                     # Batch size\n",
    "        )\n",
    "        \n",
    "        # Rearrange axes to get output shape: (N, out_channels, out_height, out_width)\n",
    "        out = out.transpose(3, 0, 1, 2)\n",
    "        \n",
    "        return out                                # Return the result of the forward pass\n",
    "        \n",
    "    def backward(self, dout, learning_rate, reg_lambda=0.0005):\n",
    "        # Unpack the stored input dimensions\n",
    "        N, C, H, W = self.x_shape\n",
    "        \n",
    "        # Reshape dout to match the dimensions needed for gradient computation\n",
    "        dout_reshaped = dout.transpose(1, 2, 3, 0).reshape(\n",
    "            self.W.shape[0],                      # Number of filters (out_channels)\n",
    "            -1                                    # Flatten the rest\n",
    "        )\n",
    "    \n",
    "        # Compute the gradient with respect to the weights\n",
    "        dW = dout_reshaped @ self.cols.T          # Matrix multiplication with the transposed input columns\n",
    "        dW = dW.reshape(self.W.shape)             # Reshape to the original weight dimensions\n",
    "        dW += reg_lambda * self.W  # Add regularization gradient\n",
    "        # Compute the gradient with respect to the biases\n",
    "        db = cp.sum(dout_reshaped, axis=1, keepdims=True)  # Sum over all examples and spatial locations\n",
    "        \n",
    "        # Compute the gradient with respect to the input\n",
    "        W_flat = self.W.reshape(\n",
    "            self.W.shape[0],                      # Number of filters\n",
    "            -1                                    # Flatten the rest\n",
    "        )\n",
    "        dcols = W_flat.T @ dout_reshaped          # Backpropagate the gradients through the weights\n",
    "        dx_padded = col2im_indices(\n",
    "            dcols,\n",
    "            x_shape=self.x_padded.shape,\n",
    "            field_height=self.kernel_size,\n",
    "            field_width=self.kernel_size,\n",
    "            padding=0,                            \n",
    "            stride=self.stride\n",
    "        )\n",
    "        \n",
    "        # Remove the padding from the gradient if padding was applied\n",
    "        if self.padding != 0:\n",
    "            dx = dx_padded[\n",
    "                :,                                 # All batches\n",
    "                :,                                 # All channels\n",
    "                self.padding:-self.padding,        # Remove padding from height\n",
    "                self.padding:-self.padding         # Remove padding from width\n",
    "            ]\n",
    "        else:\n",
    "            dx = dx_padded                        # No padding to remove\n",
    "        \n",
    "        # Update the weights and biases using the computed gradients\n",
    "        self.W -= learning_rate * dW\n",
    "        self.b -= learning_rate * db\n",
    "        \n",
    "        return dx                                 # Return the gradient with respect to the input\n"
   ]
  },
  {
   "cell_type": "code",
   "execution_count": 30,
   "metadata": {},
   "outputs": [],
   "source": [
    "class ReLU:\n",
    "    def forward(self, x):\n",
    "        self.x = x\n",
    "        return cp.maximum(0, x)\n",
    "    \n",
    "    def backward(self, dout):\n",
    "        dx = dout * (self.x > 0)\n",
    "        return dx\n"
   ]
  },
  {
   "cell_type": "code",
   "execution_count": 31,
   "metadata": {},
   "outputs": [],
   "source": [
    "class MaxPool:\n",
    "    def __init__(self, size=2, stride=2):\n",
    "        self.size = size\n",
    "        self.stride = stride\n",
    "\n",
    "    def forward(self, x):\n",
    "        # Save the input for use in the backward pass\n",
    "        self.x = x\n",
    "        \n",
    "        # Get the dimensions of the input: N = batch size, C = number of channels, H = height, W = width\n",
    "        N, C, H, W = x.shape\n",
    "        \n",
    "        # Calculate the height and width of the output after pooling\n",
    "        self.out_height = (H - self.size) // self.stride + 1\n",
    "        self.out_width = (W - self.size) // self.stride + 1\n",
    "\n",
    "        # Reshape the input to prepare for pooling:\n",
    "        # Break down the height and width \n",
    "        x_reshaped = x.reshape(N, C, self.out_height, self.stride, self.out_width, self.stride)\n",
    "        \n",
    "        # Reorder the dimensions to prepare for pooling and reshape to a 2D view for max operation\n",
    "        self.x_reshaped = x_reshaped.transpose(0, 1, 2, 4, 3, 5).reshape(N, C, self.out_height, self.out_width, self.size * self.size)\n",
    "\n",
    "        # Perform max pooling: take the maximum value over the pooling window\n",
    "        self.out = cp.max(self.x_reshaped, axis=-1)\n",
    "        \n",
    "        # Create a mask to keep track of which values were selected as the max for backpropagation\n",
    "        self.mask = (self.x_reshaped == self.out[..., cp.newaxis])\n",
    "\n",
    "        return self.out\n",
    "\n",
    "    def backward(self, dout):\n",
    "        # Get the dimensions of the output gradient\n",
    "        N, C, out_height, out_width = dout.shape\n",
    "        \n",
    "        # Use the mask to distribute the gradient to the positions that contributed to the max value\n",
    "        dx_reshaped = self.mask * dout[..., cp.newaxis]\n",
    "        \n",
    "        # Reshape the gradient back to the original input shape\n",
    "        dx_reshaped = dx_reshaped.reshape(N, C, out_height, out_width, self.size, self.size)\n",
    "        \n",
    "        # Reorder the dimensions back to the original input shape\n",
    "        dx = dx_reshaped.transpose(0, 1, 2, 4, 3, 5).reshape(self.x.shape)\n",
    "        \n",
    "        return dx\n"
   ]
  },
  {
   "cell_type": "code",
   "execution_count": 32,
   "metadata": {},
   "outputs": [],
   "source": [
    "class FCLayer:\n",
    "    def __init__(self, in_size, out_size):\n",
    "        # Initialize weights with He initialization \n",
    "        self.W = cp.random.randn(in_size, out_size) * cp.sqrt(2. / in_size)\n",
    "        \n",
    "        self.b = cp.zeros(out_size)\n",
    "    \n",
    "    def forward(self, x):\n",
    "        # Save the input for use in the backward pass\n",
    "        self.x = x\n",
    "        \n",
    "        # Compute the output of the fully connected layer\n",
    "        out = cp.dot(x, self.W) + self.b\n",
    "        \n",
    "        return out\n",
    "\n",
    "    def backward(self, dout, learning_rate, reg_lambda=0.0005):\n",
    "        # Compute the gradient with respect to the input\n",
    "        # dout: gradient of the loss with respect to the output of this layer\n",
    "        dx = cp.dot(dout, self.W.T)\n",
    "        \n",
    "        # Compute the gradient with respect to the weights\n",
    "        dW = cp.dot(self.x.T, dout) + reg_lambda * self.W\n",
    "        \n",
    "        # Compute the gradient with respect to the biases\n",
    "        db = cp.sum(dout, axis=0)\n",
    "\n",
    "        # Update the weights and biases using the computed gradients\n",
    "        self.W -= learning_rate * dW\n",
    "        self.b -= learning_rate * db\n",
    "\n",
    "        return dx\n"
   ]
  },
  {
   "cell_type": "code",
   "execution_count": 33,
   "metadata": {},
   "outputs": [],
   "source": [
    "def softmax(x):\n",
    "    exp_x = cp.exp(x - cp.max(x, axis=1, keepdims=True))\n",
    "    return exp_x / cp.sum(exp_x, axis=1, keepdims=True)\n",
    "\n",
    "def cross_entropy_loss(y_pred, y_true, model, reg_lambda):\n",
    "    m = y_pred.shape[0]\n",
    "    log_likelihood = -cp.log(y_pred[cp.arange(m), y_true] + 1e-15)\n",
    "    data_loss = cp.sum(log_likelihood) / m\n",
    "\n",
    "    # Regularization term\n",
    "    reg_loss = 0\n",
    "    # Collect all weights from the model\n",
    "    for layer in [model.conv1, model.conv2, model.conv3, model.fc1, model.fc2]:\n",
    "        if hasattr(layer, 'W'):\n",
    "            reg_loss += cp.sum(layer.W ** 2)\n",
    "    reg_loss *= (0.5 * reg_lambda)\n",
    "\n",
    "    total_loss = data_loss + reg_loss\n",
    "    return total_loss\n",
    "\n",
    "\n",
    "\n",
    "def softmax_backward(dout, y_pred, y_true):\n",
    "    m = y_pred.shape[0]\n",
    "    dx = y_pred.copy()\n",
    "    dx[cp.arange(m), y_true] -= 1\n",
    "    dx /= m\n",
    "    return dx\n"
   ]
  },
  {
   "cell_type": "code",
   "execution_count": 34,
   "metadata": {},
   "outputs": [],
   "source": [
    "def random_horizontal_flip(x, p=0.5):\n",
    "    if cp.random.rand() < p:\n",
    "        x = x[:, :, :, ::-1]\n",
    "    return x\n"
   ]
  },
  {
   "cell_type": "code",
   "execution_count": 35,
   "metadata": {},
   "outputs": [],
   "source": [
    "def cutout(images, mask_size, p=0.5):\n",
    "\n",
    "    N, C, H, W = images.shape\n",
    "    for i in range(N):\n",
    "        if cp.random.rand() > p:\n",
    "            continue \n",
    "\n",
    "        # Choose random center position for the mask\n",
    "        y_center = cp.random.randint(H)\n",
    "        x_center = cp.random.randint(W)\n",
    "\n",
    "        # Calculate mask boundaries\n",
    "        y1 = cp.clip(y_center - mask_size // 2, 0, H)\n",
    "        y2 = cp.clip(y_center + mask_size // 2, 0, H)\n",
    "        x1 = cp.clip(x_center - mask_size // 2, 0, W)\n",
    "        x2 = cp.clip(x_center + mask_size // 2, 0, W)\n",
    "\n",
    "        # Apply the mask\n",
    "        images[i, :, y1:y2, x1:x2] = 0  \n",
    "\n",
    "    return images\n"
   ]
  },
  {
   "cell_type": "code",
   "execution_count": 36,
   "metadata": {},
   "outputs": [],
   "source": [
    "class BatchNorm:\n",
    "    def __init__(self, num_features, momentum=0.9, epsilon=1e-5):\n",
    "        # Parameters for batch normalization\n",
    "        self.gamma = cp.ones((1, num_features, 1, 1), dtype=cp.float32)  # Scale parameter\n",
    "        self.beta = cp.zeros((1, num_features, 1, 1), dtype=cp.float32)  # Shift parameter\n",
    "        self.momentum = momentum\n",
    "        self.epsilon = epsilon\n",
    "\n",
    "        # Moving averages of mean and variance for inference\n",
    "        self.running_mean = cp.zeros((1, num_features, 1, 1), dtype=cp.float32)\n",
    "        self.running_var = cp.ones((1, num_features, 1, 1), dtype=cp.float32)\n",
    "\n",
    "    def forward(self, x, training=True):\n",
    "        # Perform batch normalization\n",
    "        if training:\n",
    "            # Calculate mean and variance for the current batch\n",
    "            batch_mean = cp.mean(x, axis=(0, 2, 3), keepdims=True)\n",
    "            batch_var = cp.var(x, axis=(0, 2, 3), keepdims=True)\n",
    "\n",
    "            # Normalize the input\n",
    "            self.x_centered = x - batch_mean\n",
    "            self.std_inv = 1.0 / cp.sqrt(batch_var + self.epsilon)\n",
    "            x_norm = self.x_centered * self.std_inv\n",
    "\n",
    "            # Scale and shift\n",
    "            out = self.gamma * x_norm + self.beta\n",
    "\n",
    "            # Update running averages\n",
    "            self.running_mean = self.momentum * self.running_mean + (1 - self.momentum) * batch_mean\n",
    "            self.running_var = self.momentum * self.running_var + (1 - self.momentum) * batch_var\n",
    "        else:\n",
    "            # Use running averages if not training\n",
    "            x_norm = (x - self.running_mean) / cp.sqrt(self.running_var + self.epsilon)\n",
    "            out = self.gamma * x_norm + self.beta\n",
    "\n",
    "        # Save values for backward pass\n",
    "        self.x_norm = x_norm\n",
    "        return out\n",
    "\n",
    "    def backward(self, dout, learning_rate):\n",
    "        # Backpropagate through batch normalization\n",
    "        N, C, H, W = dout.shape\n",
    "\n",
    "        # Gradients with respect to scale and shift parameters\n",
    "        dgamma = cp.sum(dout * self.x_norm, axis=(0, 2, 3), keepdims=True)\n",
    "        dbeta = cp.sum(dout, axis=(0, 2, 3), keepdims=True)\n",
    "\n",
    "        # Gradient with respect to the normalized input\n",
    "        dx_norm = dout * self.gamma\n",
    "\n",
    "        # Backpropagate through the normalization\n",
    "        dvar = cp.sum(dx_norm * self.x_centered * -0.5 * self.std_inv**3, axis=(0, 2, 3), keepdims=True)\n",
    "        dmean = cp.sum(dx_norm * -self.std_inv, axis=(0, 2, 3), keepdims=True) + dvar * cp.sum(-2 * self.x_centered, axis=(0, 2, 3), keepdims=True) / (N * H * W)\n",
    "\n",
    "        # Gradient with respect to the input\n",
    "        dx = dx_norm * self.std_inv + dvar * 2 * self.x_centered / (N * H * W) + dmean / (N * H * W)\n",
    "\n",
    "        # Update scale and shift parameters\n",
    "        self.gamma -= learning_rate * dgamma\n",
    "        self.beta -= learning_rate * dbeta\n",
    "\n",
    "        return dx\n"
   ]
  },
  {
   "cell_type": "code",
   "execution_count": 37,
   "metadata": {},
   "outputs": [],
   "source": [
    "class Dropout:\n",
    "    def __init__(self, dropout_rate=0.5):\n",
    "        self.dropout_rate = dropout_rate\n",
    "        self.mask = None\n",
    "\n",
    "    def forward(self, x, is_training=True):\n",
    "        if is_training:\n",
    "            # Create a mask with the given dropout rate\n",
    "            self.mask = (cp.random.rand(*x.shape) > self.dropout_rate).astype(cp.float32)\n",
    "            x = x * self.mask  # Apply the mask\n",
    "        return x\n",
    "\n",
    "    def backward(self, dout):\n",
    "        # Backpropagate through the dropout mask\n",
    "        if self.mask is not None:\n",
    "            dout = dout * self.mask\n",
    "        return dout\n"
   ]
  },
  {
   "cell_type": "code",
   "execution_count": 38,
   "metadata": {},
   "outputs": [],
   "source": [
    "class OneCycleLR:\n",
    "    def __init__(self, max_lr, total_steps, pct_start=0.5, anneal_strategy='linear', div_factor=100):\n",
    "        self.max_lr = max_lr\n",
    "        self.total_steps = total_steps\n",
    "        self.pct_start = pct_start\n",
    "        self.anneal_strategy = anneal_strategy\n",
    "        self.div_factor = div_factor\n",
    "        \n",
    "        # Calculate learning rates for the warm-up and decay phases\n",
    "        self.initial_lr = max_lr / div_factor\n",
    "        self.max_lr = max_lr\n",
    "        self.final_lr = self.initial_lr / div_factor\n",
    "\n",
    "        self.step_num = 0\n",
    "\n",
    "    def get_lr(self):\n",
    "        \"\"\"Calculate learning rate based on the current step and One Cycle LR policy.\"\"\"\n",
    "        if self.step_num <= self.total_steps * self.pct_start:\n",
    "            # Warm-up phase: linearly increase from initial_lr to max_lr\n",
    "            pct = self.step_num / (self.total_steps * self.pct_start)\n",
    "            lr = self.initial_lr + pct * (self.max_lr - self.initial_lr)\n",
    "        else:\n",
    "            # Decay phase: decrease from max_lr to final_lr\n",
    "            pct = (self.step_num - self.total_steps * self.pct_start) / (self.total_steps * (1 - self.pct_start))\n",
    "            if self.anneal_strategy == 'cos':\n",
    "                lr = self.final_lr + (self.max_lr - self.final_lr) * (0.5 * (1 + cp.cos(cp.pi * pct)))\n",
    "            elif self.anneal_strategy == 'linear':\n",
    "                lr = self.max_lr - pct * (self.max_lr - self.final_lr)\n",
    "            \n",
    "        \n",
    "        return lr\n",
    "\n",
    "    def step(self):\n",
    "        self.step_num += 1\n",
    "\n",
    "    def reset(self):\n",
    "        self.step_num = 0\n"
   ]
  },
  {
   "cell_type": "markdown",
   "metadata": {},
   "source": [
    "# Model Construction"
   ]
  },
  {
   "cell_type": "code",
   "execution_count": 39,
   "metadata": {},
   "outputs": [],
   "source": [
    "\n",
    "# Model layers\n",
    "\n",
    "# First Convolutional Block\n",
    "class CNNModel:\n",
    "    def __init__(self):\n",
    "        # Initialize layers\n",
    "        self.conv1 = ConvLayer(in_channels=3, out_channels=32, kernel_size=3, padding=1)\n",
    "        self.bn1 = BatchNorm(32)\n",
    "        self.relu1 = ReLU()\n",
    "        self.pool1 = MaxPool(size=2, stride=2)\n",
    "\n",
    "        self.conv2 = ConvLayer(in_channels=32, out_channels=64, kernel_size=3, padding=1)\n",
    "        self.bn2 = BatchNorm(64)\n",
    "        self.relu2 = ReLU()\n",
    "        self.pool2 = MaxPool(size=2, stride=2)\n",
    "\n",
    "        self.conv3 = ConvLayer(in_channels=64, out_channels=128, kernel_size=3, padding=1)\n",
    "        self.bn3 = BatchNorm(128)\n",
    "        self.relu3 = ReLU()\n",
    "        self.pool3 = MaxPool(size=2, stride=2)\n",
    "\n",
    "        self.flatten_size = 128 * 4 * 4\n",
    "\n",
    "        self.fc1 = FCLayer(in_size=self.flatten_size, out_size=256)\n",
    "        self.relu_fc = ReLU()\n",
    "        self.dropout1 = Dropout(dropout_rate=0.5)\n",
    "        self.fc2 = FCLayer(in_size=256, out_size=10)\n",
    "\n",
    "    def forward_pass(self, X_batch, is_training=True):\n",
    "        # Forward pass through the first convolutional block\n",
    "        out = self.conv1.forward(X_batch)\n",
    "        out = self.bn1.forward(out, training=is_training)\n",
    "        out = self.relu1.forward(out)\n",
    "        out = self.pool1.forward(out)\n",
    "\n",
    "        # Second convolutional block\n",
    "        out = self.conv2.forward(out)\n",
    "        out = self.bn2.forward(out, training=is_training)\n",
    "        out = self.relu2.forward(out)\n",
    "        out = self.pool2.forward(out)\n",
    "\n",
    "        # Third convolutional block\n",
    "        out = self.conv3.forward(out)\n",
    "        out = self.bn3.forward(out, training=is_training)\n",
    "        out = self.relu3.forward(out)\n",
    "        out = self.pool3.forward(out)\n",
    "\n",
    "        # Flatten and pass through fully connected layers\n",
    "        out = out.reshape(out.shape[0], -1)\n",
    "        out = self.fc1.forward(out)\n",
    "        out = self.relu_fc.forward(out)\n",
    "        out = self.dropout1.forward(out, is_training=is_training)\n",
    "        out = self.fc2.forward(out)\n",
    "\n",
    "        return out\n",
    "\n",
    "    def backward_pass(self, dout, learning_rate, reg_lambda=0.0005,weight_decay=0.0001):\n",
    "        # Backward pass through the fully connected layers\n",
    "        dout = self.fc2.backward(dout, learning_rate, reg_lambda)\n",
    "        dout = self.dropout1.backward(dout)\n",
    "        dout = self.relu_fc.backward(dout)\n",
    "        dout = self.fc1.backward(dout, learning_rate, reg_lambda)\n",
    "        \n",
    "        # Reshape dout to match the output shape of the last pooling layer\n",
    "        dout = dout.reshape(dout.shape[0], 128, 4, 4)\n",
    "\n",
    "        # Backward pass through the third convolutional block\n",
    "        dout = self.pool3.backward(dout)\n",
    "        dout = self.relu3.backward(dout)\n",
    "        dout = self.bn3.backward(dout, learning_rate)\n",
    "        \n",
    "        dout = self.conv3.backward(dout, learning_rate, reg_lambda)\n",
    "\n",
    "        # Backward pass through the second convolutional block\n",
    "        dout = self.pool2.backward(dout)\n",
    "        dout = self.relu2.backward(dout)\n",
    "        dout = self.bn2.backward(dout, learning_rate)\n",
    "        \n",
    "        dout = self.conv2.backward(dout, learning_rate, reg_lambda)\n",
    "\n",
    "        # Backward pass through the first convolutional block\n",
    "        dout = self.pool1.backward(dout)\n",
    "        dout = self.relu1.backward(dout)\n",
    "        dout = self.bn1.backward(dout, learning_rate)\n",
    "        \n",
    "        dout = self.conv1.backward(dout, learning_rate, reg_lambda)\n",
    "\n",
    "\n"
   ]
  },
  {
   "cell_type": "markdown",
   "metadata": {},
   "source": [
    "Finding optimal parameters"
   ]
  },
  {
   "cell_type": "code",
   "execution_count": 40,
   "metadata": {},
   "outputs": [
    {
     "name": "stderr",
     "output_type": "stream",
     "text": [
      "Finding LR: 100%|██████████| 100/100 [00:13<00:00,  7.29batch/s, loss=2.53, lr=4.49]   \n"
     ]
    }
   ],
   "source": [
    "\n",
    "cp.random.seed(42)\n",
    "np.random.seed(42)\n",
    "\n",
    "model = CNNModel()\n",
    "lrs = []\n",
    "losses = []\n",
    "lr_start = 1e-4\n",
    "lr_end = 5\n",
    "num_iters = 100  \n",
    "batch_size = 100\n",
    "lr_mult = (lr_end / lr_start) ** (1 / num_iters)\n",
    "# Subset of training data for the LR finder\n",
    "subset_size = batch_size * num_iters\n",
    "X_subset = X_train[:subset_size]\n",
    "y_subset = y_train[:subset_size]\n",
    "\n",
    "# Initialize learning rate and loss smoothing parameters\n",
    "learning_rate = lr_start\n",
    "running_loss = 0.0\n",
    "avg_beta = 0.98  # For exponential moving average of loss\n",
    "\n",
    "# Prepare progress bar\n",
    "t = tqdm(range(num_iters), desc='Finding LR', unit='batch')\n",
    "for i in t:\n",
    "    # Get the current batch\n",
    "    start = i * batch_size\n",
    "    end = start + batch_size\n",
    "    X_batch = X_subset[start:end]\n",
    "    y_batch = y_subset[start:end]\n",
    "\n",
    "    # Apply data augmentation if desired\n",
    "    X_batch = random_horizontal_flip(X_batch)\n",
    "    X_batch = cutout(X_batch, mask_size=8, p=0.5)\n",
    "\n",
    "    # Forward pass\n",
    "    out = model.forward_pass(X_batch, is_training=True)\n",
    "    y_pred = softmax(out)\n",
    "    loss = cross_entropy_loss(y_pred, y_batch, model, reg_lambda=0)\n",
    "\n",
    "    # Record learning rate and loss\n",
    "    lrs.append(learning_rate)\n",
    "    running_loss = avg_beta * running_loss + (1 - avg_beta) * loss.item()\n",
    "    smoothed_loss = running_loss / (1 - avg_beta ** (i + 1))\n",
    "    losses.append(smoothed_loss)\n",
    "\n",
    "    # Update progress bar\n",
    "    t.set_postfix(loss=smoothed_loss, lr=learning_rate)\n",
    "\n",
    "    # Backward pass\n",
    "    dout = softmax_backward(None, y_pred, y_batch)\n",
    "    model.backward_pass(dout, learning_rate, reg_lambda=0)  # No regularization during LR finder\n",
    "\n",
    "    # Update learning rate exponentially\n",
    "    learning_rate *= lr_mult\n",
    "\n",
    "    # Check for divergence\n",
    "    if smoothed_loss > 4 * losses[0] or np.isnan(smoothed_loss):\n",
    "        print(\"Loss diverged; stopping LR finder.\")\n",
    "        break\n"
   ]
  },
  {
   "cell_type": "code",
   "execution_count": 41,
   "metadata": {},
   "outputs": [
    {
     "data": {
      "image/png": "[encoded data removed]",
      "text/plain": [
       "<Figure size 1000x600 with 1 Axes>"
      ]
     },
     "metadata": {},
     "output_type": "display_data"
    }
   ],
   "source": [
    "# Convert lists to numpy arrays for plotting\n",
    "lrs_np = np.array(lrs)\n",
    "losses_np = np.array(losses)\n",
    "\n",
    "plt.figure(figsize=(10, 6))\n",
    "plt.plot(lrs_np, losses_np)\n",
    "plt.xscale('log')\n",
    "plt.xlabel('Learning Rate (log scale)')\n",
    "plt.ylabel('Smoothed Loss')\n",
    "plt.title('Learning Rate Finder')\n",
    "plt.grid(True)\n",
    "plt.show()\n"
   ]
  },
  {
   "cell_type": "code",
   "execution_count": 42,
   "metadata": {},
   "outputs": [
    {
     "name": "stdout",
     "output_type": "stream",
     "text": [
      "Minimum loss at LR = 2.69e-01\n"
     ]
    }
   ],
   "source": [
    "# Find index of minimum loss\n",
    "min_loss_idx = np.argmin(losses_np)\n",
    "min_loss_lr = lrs_np[min_loss_idx]\n",
    "\n",
    "print(f\"Minimum loss at LR = {min_loss_lr:.2e}\")\n"
   ]
  },
  {
   "cell_type": "markdown",
   "metadata": {},
   "source": [
    "# Training the model"
   ]
  },
  {
   "cell_type": "code",
   "execution_count": 43,
   "metadata": {},
   "outputs": [
    {
     "name": "stderr",
     "output_type": "stream",
     "text": [
      "Epoch 1/70: 100%|██████████| 500/500 [01:09<00:00,  7.19batch/s, Loss=1.62, LR=0.0733]\n"
     ]
    },
    {
     "name": "stdout",
     "output_type": "stream",
     "text": [
      "Epoch 1/70, Average Loss: 1.9021\n"
     ]
    },
    {
     "name": "stderr",
     "output_type": "stream",
     "text": [
      "Epoch 2/70: 100%|██████████| 500/500 [01:07<00:00,  7.43batch/s, Loss=1.45, LR=0.0791]\n"
     ]
    },
    {
     "name": "stdout",
     "output_type": "stream",
     "text": [
      "Epoch 2/70, Average Loss: 1.5819\n"
     ]
    },
    {
     "name": "stderr",
     "output_type": "stream",
     "text": [
      "Epoch 3/70: 100%|██████████| 500/500 [01:04<00:00,  7.80batch/s, Loss=1.33, LR=0.0848]\n"
     ]
    },
    {
     "name": "stdout",
     "output_type": "stream",
     "text": [
      "Epoch 3/70, Average Loss: 1.4199\n"
     ]
    },
    {
     "name": "stderr",
     "output_type": "stream",
     "text": [
      "Epoch 4/70: 100%|██████████| 500/500 [01:05<00:00,  7.58batch/s, Loss=1.39, LR=0.0906] \n"
     ]
    },
    {
     "name": "stdout",
     "output_type": "stream",
     "text": [
      "Epoch 4/70, Average Loss: 1.3241\n"
     ]
    },
    {
     "name": "stderr",
     "output_type": "stream",
     "text": [
      "Epoch 5/70: 100%|██████████| 500/500 [01:08<00:00,  7.31batch/s, Loss=1.15, LR=0.0964] \n"
     ]
    },
    {
     "name": "stdout",
     "output_type": "stream",
     "text": [
      "Epoch 5/70, Average Loss: 1.2583\n"
     ]
    },
    {
     "name": "stderr",
     "output_type": "stream",
     "text": [
      "Epoch 6/70: 100%|██████████| 500/500 [01:05<00:00,  7.61batch/s, Loss=1.37, LR=0.102]  \n"
     ]
    },
    {
     "name": "stdout",
     "output_type": "stream",
     "text": [
      "Epoch 6/70, Average Loss: 1.1900\n"
     ]
    },
    {
     "name": "stderr",
     "output_type": "stream",
     "text": [
      "Epoch 7/70: 100%|██████████| 500/500 [01:04<00:00,  7.76batch/s, Loss=1.23, LR=0.108] \n"
     ]
    },
    {
     "name": "stdout",
     "output_type": "stream",
     "text": [
      "Epoch 7/70, Average Loss: 1.1359\n"
     ]
    },
    {
     "name": "stderr",
     "output_type": "stream",
     "text": [
      "Epoch 8/70: 100%|██████████| 500/500 [01:04<00:00,  7.77batch/s, Loss=1.05, LR=0.114] \n"
     ]
    },
    {
     "name": "stdout",
     "output_type": "stream",
     "text": [
      "Epoch 8/70, Average Loss: 1.0975\n"
     ]
    },
    {
     "name": "stderr",
     "output_type": "stream",
     "text": [
      "Epoch 9/70: 100%|██████████| 500/500 [01:04<00:00,  7.77batch/s, Loss=0.945, LR=0.12] \n"
     ]
    },
    {
     "name": "stdout",
     "output_type": "stream",
     "text": [
      "Epoch 9/70, Average Loss: 1.0590\n"
     ]
    },
    {
     "name": "stderr",
     "output_type": "stream",
     "text": [
      "Epoch 10/70: 100%|██████████| 500/500 [01:05<00:00,  7.61batch/s, Loss=1.1, LR=0.125]  \n"
     ]
    },
    {
     "name": "stdout",
     "output_type": "stream",
     "text": [
      "Epoch 10/70, Average Loss: 1.0173\n"
     ]
    },
    {
     "name": "stderr",
     "output_type": "stream",
     "text": [
      "Epoch 11/70: 100%|██████████| 500/500 [01:03<00:00,  7.85batch/s, Loss=0.963, LR=0.131]\n"
     ]
    },
    {
     "name": "stdout",
     "output_type": "stream",
     "text": [
      "Epoch 11/70, Average Loss: 0.9900\n"
     ]
    },
    {
     "name": "stderr",
     "output_type": "stream",
     "text": [
      "Epoch 12/70: 100%|██████████| 500/500 [01:04<00:00,  7.77batch/s, Loss=1.03, LR=0.137] \n"
     ]
    },
    {
     "name": "stdout",
     "output_type": "stream",
     "text": [
      "Epoch 12/70, Average Loss: 0.9595\n"
     ]
    },
    {
     "name": "stderr",
     "output_type": "stream",
     "text": [
      "Epoch 13/70: 100%|██████████| 500/500 [01:02<00:00,  8.04batch/s, Loss=1.09, LR=0.143] \n"
     ]
    },
    {
     "name": "stdout",
     "output_type": "stream",
     "text": [
      "Epoch 13/70, Average Loss: 0.9316\n"
     ]
    },
    {
     "name": "stderr",
     "output_type": "stream",
     "text": [
      "Epoch 14/70: 100%|██████████| 500/500 [01:01<00:00,  8.09batch/s, Loss=0.788, LR=0.148]\n"
     ]
    },
    {
     "name": "stdout",
     "output_type": "stream",
     "text": [
      "Epoch 14/70, Average Loss: 0.9168\n"
     ]
    },
    {
     "name": "stderr",
     "output_type": "stream",
     "text": [
      "Epoch 15/70: 100%|██████████| 500/500 [01:02<00:00,  7.94batch/s, Loss=0.827, LR=0.154]\n"
     ]
    },
    {
     "name": "stdout",
     "output_type": "stream",
     "text": [
      "Epoch 15/70, Average Loss: 0.8846\n"
     ]
    },
    {
     "name": "stderr",
     "output_type": "stream",
     "text": [
      "Epoch 16/70: 100%|██████████| 500/500 [01:01<00:00,  8.12batch/s, Loss=0.936, LR=0.16] \n"
     ]
    },
    {
     "name": "stdout",
     "output_type": "stream",
     "text": [
      "Epoch 16/70, Average Loss: 0.8663\n"
     ]
    },
    {
     "name": "stderr",
     "output_type": "stream",
     "text": [
      "Epoch 17/70: 100%|██████████| 500/500 [01:03<00:00,  7.86batch/s, Loss=0.91, LR=0.166] \n"
     ]
    },
    {
     "name": "stdout",
     "output_type": "stream",
     "text": [
      "Epoch 17/70, Average Loss: 0.8453\n"
     ]
    },
    {
     "name": "stderr",
     "output_type": "stream",
     "text": [
      "Epoch 18/70: 100%|██████████| 500/500 [01:02<00:00,  7.94batch/s, Loss=0.83, LR=0.172] \n"
     ]
    },
    {
     "name": "stdout",
     "output_type": "stream",
     "text": [
      "Epoch 18/70, Average Loss: 0.8264\n"
     ]
    },
    {
     "name": "stderr",
     "output_type": "stream",
     "text": [
      "Epoch 19/70: 100%|██████████| 500/500 [01:02<00:00,  8.02batch/s, Loss=0.903, LR=0.177]\n"
     ]
    },
    {
     "name": "stdout",
     "output_type": "stream",
     "text": [
      "Epoch 19/70, Average Loss: 0.8128\n"
     ]
    },
    {
     "name": "stderr",
     "output_type": "stream",
     "text": [
      "Epoch 20/70: 100%|██████████| 500/500 [01:03<00:00,  7.85batch/s, Loss=0.98, LR=0.183] \n"
     ]
    },
    {
     "name": "stdout",
     "output_type": "stream",
     "text": [
      "Epoch 20/70, Average Loss: 0.7971\n"
     ]
    },
    {
     "name": "stderr",
     "output_type": "stream",
     "text": [
      "Epoch 21/70: 100%|██████████| 500/500 [01:02<00:00,  7.95batch/s, Loss=0.717, LR=0.189]\n"
     ]
    },
    {
     "name": "stdout",
     "output_type": "stream",
     "text": [
      "Epoch 21/70, Average Loss: 0.7914\n"
     ]
    },
    {
     "name": "stderr",
     "output_type": "stream",
     "text": [
      "Epoch 22/70: 100%|██████████| 500/500 [01:04<00:00,  7.75batch/s, Loss=0.849, LR=0.195]\n"
     ]
    },
    {
     "name": "stdout",
     "output_type": "stream",
     "text": [
      "Epoch 22/70, Average Loss: 0.7749\n"
     ]
    },
    {
     "name": "stderr",
     "output_type": "stream",
     "text": [
      "Epoch 23/70: 100%|██████████| 500/500 [01:04<00:00,  7.72batch/s, Loss=0.656, LR=0.201]\n"
     ]
    },
    {
     "name": "stdout",
     "output_type": "stream",
     "text": [
      "Epoch 23/70, Average Loss: 0.7676\n"
     ]
    },
    {
     "name": "stderr",
     "output_type": "stream",
     "text": [
      "Epoch 24/70: 100%|██████████| 500/500 [01:07<00:00,  7.39batch/s, Loss=0.758, LR=0.206]\n"
     ]
    },
    {
     "name": "stdout",
     "output_type": "stream",
     "text": [
      "Epoch 24/70, Average Loss: 0.7641\n"
     ]
    },
    {
     "name": "stderr",
     "output_type": "stream",
     "text": [
      "Epoch 25/70: 100%|██████████| 500/500 [01:08<00:00,  7.27batch/s, Loss=0.749, LR=0.212]\n"
     ]
    },
    {
     "name": "stdout",
     "output_type": "stream",
     "text": [
      "Epoch 25/70, Average Loss: 0.7514\n"
     ]
    },
    {
     "name": "stderr",
     "output_type": "stream",
     "text": [
      "Epoch 26/70: 100%|██████████| 500/500 [01:05<00:00,  7.63batch/s, Loss=0.858, LR=0.218]\n"
     ]
    },
    {
     "name": "stdout",
     "output_type": "stream",
     "text": [
      "Epoch 26/70, Average Loss: 0.7431\n"
     ]
    },
    {
     "name": "stderr",
     "output_type": "stream",
     "text": [
      "Epoch 27/70: 100%|██████████| 500/500 [01:05<00:00,  7.64batch/s, Loss=0.6, LR=0.224]  \n"
     ]
    },
    {
     "name": "stdout",
     "output_type": "stream",
     "text": [
      "Epoch 27/70, Average Loss: 0.7417\n"
     ]
    },
    {
     "name": "stderr",
     "output_type": "stream",
     "text": [
      "Epoch 28/70: 100%|██████████| 500/500 [01:06<00:00,  7.48batch/s, Loss=0.732, LR=0.229]\n"
     ]
    },
    {
     "name": "stdout",
     "output_type": "stream",
     "text": [
      "Epoch 28/70, Average Loss: 0.7441\n"
     ]
    },
    {
     "name": "stderr",
     "output_type": "stream",
     "text": [
      "Epoch 29/70: 100%|██████████| 500/500 [01:04<00:00,  7.75batch/s, Loss=0.83, LR=0.235] \n"
     ]
    },
    {
     "name": "stdout",
     "output_type": "stream",
     "text": [
      "Epoch 29/70, Average Loss: 0.7318\n"
     ]
    },
    {
     "name": "stderr",
     "output_type": "stream",
     "text": [
      "Epoch 30/70: 100%|██████████| 500/500 [01:04<00:00,  7.74batch/s, Loss=0.812, LR=0.241]\n"
     ]
    },
    {
     "name": "stdout",
     "output_type": "stream",
     "text": [
      "Epoch 30/70, Average Loss: 0.7334\n"
     ]
    },
    {
     "name": "stderr",
     "output_type": "stream",
     "text": [
      "Epoch 31/70: 100%|██████████| 500/500 [01:04<00:00,  7.79batch/s, Loss=0.849, LR=0.247]\n"
     ]
    },
    {
     "name": "stdout",
     "output_type": "stream",
     "text": [
      "Epoch 31/70, Average Loss: 0.7317\n"
     ]
    },
    {
     "name": "stderr",
     "output_type": "stream",
     "text": [
      "Epoch 32/70: 100%|██████████| 500/500 [01:05<00:00,  7.66batch/s, Loss=0.544, LR=0.253]\n"
     ]
    },
    {
     "name": "stdout",
     "output_type": "stream",
     "text": [
      "Epoch 32/70, Average Loss: 0.7351\n"
     ]
    },
    {
     "name": "stderr",
     "output_type": "stream",
     "text": [
      "Epoch 33/70: 100%|██████████| 500/500 [01:04<00:00,  7.70batch/s, Loss=0.726, LR=0.258]\n"
     ]
    },
    {
     "name": "stdout",
     "output_type": "stream",
     "text": [
      "Epoch 33/70, Average Loss: 0.7323\n"
     ]
    },
    {
     "name": "stderr",
     "output_type": "stream",
     "text": [
      "Epoch 34/70: 100%|██████████| 500/500 [01:05<00:00,  7.64batch/s, Loss=0.863, LR=0.264]\n"
     ]
    },
    {
     "name": "stdout",
     "output_type": "stream",
     "text": [
      "Epoch 34/70, Average Loss: 0.7319\n"
     ]
    },
    {
     "name": "stderr",
     "output_type": "stream",
     "text": [
      "Epoch 35/70: 100%|██████████| 500/500 [01:05<00:00,  7.62batch/s, Loss=0.939, LR=0.27] \n"
     ]
    },
    {
     "name": "stdout",
     "output_type": "stream",
     "text": [
      "Epoch 35/70, Average Loss: 0.7336\n"
     ]
    },
    {
     "name": "stderr",
     "output_type": "stream",
     "text": [
      "Epoch 36/70: 100%|██████████| 500/500 [01:04<00:00,  7.72batch/s, Loss=0.797, LR=0.2694925311977443] \n"
     ]
    },
    {
     "name": "stdout",
     "output_type": "stream",
     "text": [
      "Epoch 36/70, Average Loss: 0.7294\n"
     ]
    },
    {
     "name": "stderr",
     "output_type": "stream",
     "text": [
      "Epoch 37/70: 100%|██████████| 500/500 [01:06<00:00,  7.54batch/s, Loss=0.792, LR=0.267970143442825]  \n"
     ]
    },
    {
     "name": "stdout",
     "output_type": "stream",
     "text": [
      "Epoch 37/70, Average Loss: 0.7310\n"
     ]
    },
    {
     "name": "stderr",
     "output_type": "stream",
     "text": [
      "Epoch 38/70: 100%|██████████| 500/500 [01:06<00:00,  7.57batch/s, Loss=0.905, LR=0.2654450920669126] \n"
     ]
    },
    {
     "name": "stdout",
     "output_type": "stream",
     "text": [
      "Epoch 38/70, Average Loss: 0.7200\n"
     ]
    },
    {
     "name": "stderr",
     "output_type": "stream",
     "text": [
      "Epoch 39/70: 100%|██████████| 500/500 [01:01<00:00,  8.12batch/s, Loss=0.961, LR=0.26193770729897975]\n"
     ]
    },
    {
     "name": "stdout",
     "output_type": "stream",
     "text": [
      "Epoch 39/70, Average Loss: 0.7114\n"
     ]
    },
    {
     "name": "stderr",
     "output_type": "stream",
     "text": [
      "Epoch 40/70: 100%|██████████| 500/500 [01:02<00:00,  8.00batch/s, Loss=0.594, LR=0.2574762285388691] \n"
     ]
    },
    {
     "name": "stdout",
     "output_type": "stream",
     "text": [
      "Epoch 40/70, Average Loss: 0.7108\n"
     ]
    },
    {
     "name": "stderr",
     "output_type": "stream",
     "text": [
      "Epoch 41/70: 100%|██████████| 500/500 [01:02<00:00,  7.95batch/s, Loss=0.619, LR=0.25209657699024995]\n"
     ]
    },
    {
     "name": "stdout",
     "output_type": "stream",
     "text": [
      "Epoch 41/70, Average Loss: 0.6991\n"
     ]
    },
    {
     "name": "stderr",
     "output_type": "stream",
     "text": [
      "Epoch 42/70: 100%|██████████| 500/500 [01:02<00:00,  7.99batch/s, Loss=0.706, LR=0.24584206644420797]\n"
     ]
    },
    {
     "name": "stdout",
     "output_type": "stream",
     "text": [
      "Epoch 42/70, Average Loss: 0.6888\n"
     ]
    },
    {
     "name": "stderr",
     "output_type": "stream",
     "text": [
      "Epoch 43/70: 100%|██████████| 500/500 [01:02<00:00,  8.03batch/s, Loss=0.631, LR=0.2387630545420672] \n"
     ]
    },
    {
     "name": "stdout",
     "output_type": "stream",
     "text": [
      "Epoch 43/70, Average Loss: 0.6785\n"
     ]
    },
    {
     "name": "stderr",
     "output_type": "stream",
     "text": [
      "Epoch 44/70: 100%|██████████| 500/500 [01:02<00:00,  7.98batch/s, Loss=0.703, LR=0.2309165373252721] \n"
     ]
    },
    {
     "name": "stdout",
     "output_type": "stream",
     "text": [
      "Epoch 44/70, Average Loss: 0.6744\n"
     ]
    },
    {
     "name": "stderr",
     "output_type": "stream",
     "text": [
      "Epoch 45/70: 100%|██████████| 500/500 [01:03<00:00,  7.82batch/s, Loss=0.615, LR=0.2223656903367749] \n"
     ]
    },
    {
     "name": "stdout",
     "output_type": "stream",
     "text": [
      "Epoch 45/70, Average Loss: 0.6600\n"
     ]
    },
    {
     "name": "stderr",
     "output_type": "stream",
     "text": [
      "Epoch 46/70: 100%|██████████| 500/500 [01:02<00:00,  7.97batch/s, Loss=0.672, LR=0.2131793599687103] \n"
     ]
    },
    {
     "name": "stdout",
     "output_type": "stream",
     "text": [
      "Epoch 46/70, Average Loss: 0.6446\n"
     ]
    },
    {
     "name": "stderr",
     "output_type": "stream",
     "text": [
      "Epoch 47/70: 100%|██████████| 500/500 [01:03<00:00,  7.91batch/s, Loss=0.509, LR=0.20343150915172725]\n"
     ]
    },
    {
     "name": "stdout",
     "output_type": "stream",
     "text": [
      "Epoch 47/70, Average Loss: 0.6376\n"
     ]
    },
    {
     "name": "stderr",
     "output_type": "stream",
     "text": [
      "Epoch 48/70: 100%|██████████| 500/500 [01:02<00:00,  7.96batch/s, Loss=0.576, LR=0.1932006218489606] \n"
     ]
    },
    {
     "name": "stdout",
     "output_type": "stream",
     "text": [
      "Epoch 48/70, Average Loss: 0.6235\n"
     ]
    },
    {
     "name": "stderr",
     "output_type": "stream",
     "text": [
      "Epoch 49/70: 100%|██████████| 500/500 [01:03<00:00,  7.88batch/s, Loss=0.613, LR=0.18256907114930798]\n"
     ]
    },
    {
     "name": "stdout",
     "output_type": "stream",
     "text": [
      "Epoch 49/70, Average Loss: 0.6130\n"
     ]
    },
    {
     "name": "stderr",
     "output_type": "stream",
     "text": [
      "Epoch 50/70: 100%|██████████| 500/500 [01:04<00:00,  7.79batch/s, Loss=0.489, LR=0.1716224560477523] \n"
     ]
    },
    {
     "name": "stdout",
     "output_type": "stream",
     "text": [
      "Epoch 50/70, Average Loss: 0.5936\n"
     ]
    },
    {
     "name": "stderr",
     "output_type": "stream",
     "text": [
      "Epoch 51/70: 100%|██████████| 500/500 [01:04<00:00,  7.75batch/s, Loss=0.563, LR=0.16044891225258595]\n"
     ]
    },
    {
     "name": "stdout",
     "output_type": "stream",
     "text": [
      "Epoch 51/70, Average Loss: 0.5804\n"
     ]
    },
    {
     "name": "stderr",
     "output_type": "stream",
     "text": [
      "Epoch 52/70: 100%|██████████| 500/500 [01:03<00:00,  7.90batch/s, Loss=0.689, LR=0.14913840256851021]\n"
     ]
    },
    {
     "name": "stdout",
     "output_type": "stream",
     "text": [
      "Epoch 52/70, Average Loss: 0.5644\n"
     ]
    },
    {
     "name": "stderr",
     "output_type": "stream",
     "text": [
      "Epoch 53/70: 100%|██████████| 500/500 [01:06<00:00,  7.50batch/s, Loss=0.608, LR=0.13778199256902918]\n"
     ]
    },
    {
     "name": "stdout",
     "output_type": "stream",
     "text": [
      "Epoch 53/70, Average Loss: 0.5497\n"
     ]
    },
    {
     "name": "stderr",
     "output_type": "stream",
     "text": [
      "Epoch 54/70: 100%|██████████| 500/500 [01:08<00:00,  7.34batch/s, Loss=0.606, LR=0.1264711173899979] \n"
     ]
    },
    {
     "name": "stdout",
     "output_type": "stream",
     "text": [
      "Epoch 54/70, Average Loss: 0.5305\n"
     ]
    },
    {
     "name": "stderr",
     "output_type": "stream",
     "text": [
      "Epoch 55/70: 100%|██████████| 500/500 [01:11<00:00,  7.00batch/s, Loss=0.512, LR=0.11529684554767086]\n"
     ]
    },
    {
     "name": "stdout",
     "output_type": "stream",
     "text": [
      "Epoch 55/70, Average Loss: 0.5152\n"
     ]
    },
    {
     "name": "stderr",
     "output_type": "stream",
     "text": [
      "Epoch 56/70: 100%|██████████| 500/500 [01:14<00:00,  6.76batch/s, Loss=0.494, LR=0.10434914570855713]\n"
     ]
    },
    {
     "name": "stdout",
     "output_type": "stream",
     "text": [
      "Epoch 56/70, Average Loss: 0.5032\n"
     ]
    },
    {
     "name": "stderr",
     "output_type": "stream",
     "text": [
      "Epoch 57/70: 100%|██████████| 500/500 [01:12<00:00,  6.91batch/s, Loss=0.362, LR=0.09371616231461799]\n"
     ]
    },
    {
     "name": "stdout",
     "output_type": "stream",
     "text": [
      "Epoch 57/70, Average Loss: 0.4778\n"
     ]
    },
    {
     "name": "stderr",
     "output_type": "stream",
     "text": [
      "Epoch 58/70: 100%|██████████| 500/500 [01:06<00:00,  7.55batch/s, Loss=0.419, LR=0.0834835058960484] \n"
     ]
    },
    {
     "name": "stdout",
     "output_type": "stream",
     "text": [
      "Epoch 58/70, Average Loss: 0.4627\n"
     ]
    },
    {
     "name": "stderr",
     "output_type": "stream",
     "text": [
      "Epoch 59/70: 100%|██████████| 500/500 [01:04<00:00,  7.77batch/s, Loss=0.465, LR=0.0737335637856262] \n"
     ]
    },
    {
     "name": "stdout",
     "output_type": "stream",
     "text": [
      "Epoch 59/70, Average Loss: 0.4454\n"
     ]
    },
    {
     "name": "stderr",
     "output_type": "stream",
     "text": [
      "Epoch 60/70: 100%|██████████| 500/500 [01:00<00:00,  8.24batch/s, Loss=0.419, LR=0.06454483678435136]\n"
     ]
    },
    {
     "name": "stdout",
     "output_type": "stream",
     "text": [
      "Epoch 60/70, Average Loss: 0.4313\n"
     ]
    },
    {
     "name": "stderr",
     "output_type": "stream",
     "text": [
      "Epoch 61/70: 100%|██████████| 500/500 [01:00<00:00,  8.26batch/s, Loss=0.388, LR=0.05599130711915415] \n"
     ]
    },
    {
     "name": "stdout",
     "output_type": "stream",
     "text": [
      "Epoch 61/70, Average Loss: 0.4149\n"
     ]
    },
    {
     "name": "stderr",
     "output_type": "stream",
     "text": [
      "Epoch 62/70: 100%|██████████| 500/500 [01:00<00:00,  8.21batch/s, Loss=0.408, LR=0.048141842781504754]\n"
     ]
    },
    {
     "name": "stdout",
     "output_type": "stream",
     "text": [
      "Epoch 62/70, Average Loss: 0.4039\n"
     ]
    },
    {
     "name": "stderr",
     "output_type": "stream",
     "text": [
      "Epoch 63/70: 100%|██████████| 500/500 [01:00<00:00,  8.25batch/s, Loss=0.393, LR=0.041059643042839655]\n"
     ]
    },
    {
     "name": "stdout",
     "output_type": "stream",
     "text": [
      "Epoch 63/70, Average Loss: 0.3901\n"
     ]
    },
    {
     "name": "stderr",
     "output_type": "stream",
     "text": [
      "Epoch 64/70: 100%|██████████| 500/500 [01:00<00:00,  8.26batch/s, Loss=0.426, LR=0.034801729611188506]\n"
     ]
    },
    {
     "name": "stdout",
     "output_type": "stream",
     "text": [
      "Epoch 64/70, Average Loss: 0.3821\n"
     ]
    },
    {
     "name": "stderr",
     "output_type": "stream",
     "text": [
      "Epoch 65/70: 100%|██████████| 500/500 [01:00<00:00,  8.26batch/s, Loss=0.34, LR=0.029418487525909552] \n"
     ]
    },
    {
     "name": "stdout",
     "output_type": "stream",
     "text": [
      "Epoch 65/70, Average Loss: 0.3678\n"
     ]
    },
    {
     "name": "stderr",
     "output_type": "stream",
     "text": [
      "Epoch 66/70: 100%|██████████| 500/500 [01:00<00:00,  8.27batch/s, Loss=0.402, LR=0.024953259486978324]\n"
     ]
    },
    {
     "name": "stdout",
     "output_type": "stream",
     "text": [
      "Epoch 66/70, Average Loss: 0.3588\n"
     ]
    },
    {
     "name": "stderr",
     "output_type": "stream",
     "text": [
      "Epoch 67/70: 100%|██████████| 500/500 [01:00<00:00,  8.23batch/s, Loss=0.324, LR=0.021441996885052723]\n"
     ]
    },
    {
     "name": "stdout",
     "output_type": "stream",
     "text": [
      "Epoch 67/70, Average Loss: 0.3496\n"
     ]
    },
    {
     "name": "stderr",
     "output_type": "stream",
     "text": [
      "Epoch 68/70: 100%|██████████| 500/500 [01:00<00:00,  8.27batch/s, Loss=0.3, LR=0.018912970342014467]  \n"
     ]
    },
    {
     "name": "stdout",
     "output_type": "stream",
     "text": [
      "Epoch 68/70, Average Loss: 0.3460\n"
     ]
    },
    {
     "name": "stderr",
     "output_type": "stream",
     "text": [
      "Epoch 69/70: 100%|██████████| 500/500 [01:00<00:00,  8.26batch/s, Loss=0.381, LR=0.01738654209254459] \n"
     ]
    },
    {
     "name": "stdout",
     "output_type": "stream",
     "text": [
      "Epoch 69/70, Average Loss: 0.3419\n"
     ]
    },
    {
     "name": "stderr",
     "output_type": "stream",
     "text": [
      "Epoch 70/70: 100%|██████████| 500/500 [01:00<00:00,  8.26batch/s, Loss=0.371, LR=0.016875002039382532]\n"
     ]
    },
    {
     "name": "stdout",
     "output_type": "stream",
     "text": [
      "Epoch 70/70, Average Loss: 0.3413\n"
     ]
    }
   ],
   "source": [
    "# Hyperparameters\n",
    "\n",
    "num_epochs = 70\n",
    "\n",
    "iterations_per_epoch= X_train.shape[0] // batch_size\n",
    "\n",
    "# Training Loop\n",
    "num_batches = X_train.shape[0] // batch_size\n",
    "loss_history = []\n",
    "test_loss_history = []\n",
    "lr_history = []\n",
    "lr_sum = 0\n",
    "scheduler = OneCycleLR(max_lr=0.27, total_steps=num_epochs*iterations_per_epoch, pct_start=0.5, anneal_strategy='cos', div_factor=4)\n",
    "\n",
    "best_val_loss = float('inf')\n",
    "\n",
    "reg_lambda = 0.0005   \n",
    "model = CNNModel() # initialize the model\n",
    "for epoch in range(num_epochs):\n",
    "    permutation = cp.random.permutation(X_train.shape[0])\n",
    "    X_train_shuffled = X_train[permutation]\n",
    "    y_train_shuffled = y_train[permutation]\n",
    "    epoch_loss = 0\n",
    "    lr_sum = 0\n",
    "    with tqdm(total=num_batches, desc=f'Epoch {epoch+1}/{num_epochs}', unit='batch') as pbar:\n",
    "        for i in range(num_batches):\n",
    "            X_batch = X_train_shuffled[i*batch_size:(i+1)*batch_size]\n",
    "            y_batch = y_train_shuffled[i*batch_size:(i+1)*batch_size]\n",
    "\n",
    "            #Data\n",
    "            X_batch = random_horizontal_flip(X_batch)\n",
    "            X_batch = cutout(X_batch, mask_size=8, p=0.5)\n",
    "            \n",
    "            # Forward pass\n",
    "            out = model.forward_pass(X_batch, is_training=True)\n",
    "            y_pred = softmax(out)\n",
    "            loss = cross_entropy_loss(y_pred, y_batch, model, reg_lambda)\n",
    "            epoch_loss += loss\n",
    "\n",
    "            # Backward pass\n",
    "            dout = softmax_backward(None, y_pred, y_batch)\n",
    "            current_lr = scheduler.get_lr()  # Get the current learning rate\n",
    "            model.backward_pass(dout, current_lr, reg_lambda)  # Use the current learning rate for weight updates\n",
    "\n",
    "            \n",
    "            scheduler.step()\n",
    "            lr_sum+=current_lr\n",
    "            # Update the progress bar\n",
    "            pbar.set_postfix({'Loss': loss.item(), 'LR': current_lr})\n",
    "            pbar.update(1)\n",
    "\n",
    "    \n",
    "    \n",
    "    avg_loss = epoch_loss / num_batches\n",
    "    loss_history.append(avg_loss)\n",
    "    avg_lr = lr_sum / num_batches\n",
    "    lr_history.append(avg_lr)\n",
    "\n",
    "\n",
    "    \n",
    "    test_loss = 0\n",
    "    num_test_batches = X_test.shape[0] // batch_size\n",
    "    for i in range(num_test_batches):\n",
    "        X_test_batch = X_test[i*batch_size:(i+1)*batch_size]\n",
    "        y_test_batch = y_test[i*batch_size:(i+1)*batch_size]\n",
    "        \n",
    "        # Forward pass (no gradient calculation needed)\n",
    "        out = model.forward_pass(X_test_batch, is_training=False)\n",
    "        y_test_pred = softmax(out)\n",
    "        test_loss += cross_entropy_loss(y_test_pred, y_test_batch, model, reg_lambda)\n",
    "\n",
    "    avg_test_loss = test_loss / num_test_batches\n",
    "    test_loss_history.append(avg_test_loss)\n",
    "    val_loss = avg_test_loss *100\n",
    "    print(f'Epoch {epoch+1}/{num_epochs}, Average Loss: {avg_loss:.4f}')\n",
    "    lr = scheduler.get_lr()\n",
    "    \n",
    "    "
   ]
  },
  {
   "cell_type": "markdown",
   "metadata": {},
   "source": [
    "# Evaluation and Results"
   ]
  },
  {
   "cell_type": "code",
   "execution_count": 44,
   "metadata": {},
   "outputs": [],
   "source": [
    "def evaluate(X, y, batch_size=32):\n",
    "    num_samples = X.shape[0]\n",
    "    num_batches = (num_samples + batch_size - 1) // batch_size \n",
    "    correct = 0 \n",
    "    total = 0\n",
    "\n",
    "    with tqdm(total=num_batches, desc='Evaluating', unit='batch') as pbar:\n",
    "        for i in range(num_batches):\n",
    "            X_batch = X[i*batch_size:(i+1)*batch_size]\n",
    "            y_batch = y[i*batch_size:(i+1)*batch_size]\n",
    "            \n",
    "            # Forward pass\n",
    "            out = model.forward_pass(X_batch, is_training=False)  \n",
    "            y_pred = softmax(out)\n",
    "            predictions = cp.argmax(y_pred, axis=1)\n",
    "            \n",
    "            # Compute the number of correct predictions\n",
    "            correct += cp.sum(predictions == y_batch).item()\n",
    "            total += y_batch.shape[0]\n",
    "            pbar.update(1)\n",
    "\n",
    "    accuracy = correct / total\n",
    "    return accuracy\n"
   ]
  },
  {
   "cell_type": "code",
   "execution_count": 45,
   "metadata": {},
   "outputs": [
    {
     "name": "stderr",
     "output_type": "stream",
     "text": [
      "Evaluating: 100%|██████████| 100/100 [00:02<00:00, 44.98batch/s]"
     ]
    },
    {
     "name": "stdout",
     "output_type": "stream",
     "text": [
      "Test Accuracy: 85.39%\n"
     ]
    },
    {
     "name": "stderr",
     "output_type": "stream",
     "text": [
      "\n"
     ]
    }
   ],
   "source": [
    "test_accuracy = evaluate(X_test, y_test, batch_size=100)\n",
    "print(f'Test Accuracy: {test_accuracy * 100:.2f}%')\n"
   ]
  },
  {
   "cell_type": "code",
   "execution_count": 46,
   "metadata": {},
   "outputs": [
    {
     "name": "stderr",
     "output_type": "stream",
     "text": [
      "Evaluating: 100%|██████████| 500/500 [00:11<00:00, 44.79batch/s]"
     ]
    },
    {
     "name": "stdout",
     "output_type": "stream",
     "text": [
      "Training Accuracy: 98.97%\n"
     ]
    },
    {
     "name": "stderr",
     "output_type": "stream",
     "text": [
      "\n"
     ]
    }
   ],
   "source": [
    "train_accuracy = evaluate(X_train, y_train, batch_size=100)\n",
    "print(f'Training Accuracy: {train_accuracy * 100:.2f}%')\n"
   ]
  },
  {
   "cell_type": "markdown",
   "metadata": {},
   "source": [
    "Plotting results"
   ]
  },
  {
   "cell_type": "code",
   "execution_count": 47,
   "metadata": {},
   "outputs": [],
   "source": [
    "\n",
    "def to_numpy(x):\n",
    "    \"\"\"Convert CuPy array, CuPy scalar, or list of CuPy scalars to NumPy array\"\"\"\n",
    "    if isinstance(x, cp.ndarray) or cp.isscalar(x):\n",
    "        return cp.asnumpy(x)\n",
    "    elif isinstance(x, list):\n",
    "        # Handle list of CuPy arrays or scalars\n",
    "        if len(x) > 0 and (isinstance(x[0], cp.ndarray) or cp.isscalar(x[0])):\n",
    "            return np.array([cp.asnumpy(val) for val in x])\n",
    "        return np.array(x)\n",
    "    return x\n",
    "\n",
    "\n",
    "def plot_training_metrics(loss_history, test_loss_history, figsize=(15, 5)):\n",
    "    # Convert loss history to numpy and ensure it's a flat array\n",
    "    loss_history = to_numpy(loss_history)\n",
    "    test_loss_history = to_numpy(test_loss_history)\n",
    "\n",
    "    # Set up the figure and axis\n",
    "    num_plots = 1\n",
    "    fig, axes = plt.subplots(1, num_plots, figsize=figsize)\n",
    "    axes = [axes]\n",
    "\n",
    "    # Plot loss\n",
    "    epochs = np.arange(1, len(loss_history) + 1)\n",
    "    axes[0].plot(epochs, loss_history, 'b-', label='Training Loss')\n",
    "    \n",
    "    axes[0].plot(epochs, test_loss_history, 'r-', label='Test Loss')\n",
    "    axes[0].set_xlabel('Epoch')\n",
    "    axes[0].set_ylabel('Loss')\n",
    "    axes[0].set_title('Training and Test Loss Over Time')\n",
    "    axes[0].grid(True)\n",
    "    axes[0].legend()\n",
    "\n",
    "\n",
    "    plt.tight_layout()\n",
    "    return fig\n",
    "\n",
    "def plot_lr(lr_history, figsize=(15, 5)):\n",
    "    lr_history = to_numpy(lr_history)\n",
    "    # Set up the figure and axis\n",
    "    num_plots = 1\n",
    "    fig, axes = plt.subplots(1, num_plots, figsize=figsize)\n",
    "\n",
    "    if num_plots == 1:\n",
    "        axes = [axes]\n",
    "\n",
    "    # Plot loss\n",
    "    epochs = np.arange(1, len(lr_history) + 1)\n",
    "    axes[0].plot(epochs, lr_history, 'b-', label='Learning Rate')\n",
    "    axes[0].set_xlabel('Epoch')\n",
    "    axes[0].set_ylabel('LR')\n",
    "    axes[0].set_title('Learning Rate Over Time')\n",
    "    axes[0].grid(True)\n",
    "    axes[0].legend()\n",
    "\n",
    "\n",
    "    plt.tight_layout()\n",
    "    return fig\n",
    "\n",
    "def plot_confusion_matrix(y_true, y_pred, class_names, figsize=(10, 8)):\n",
    "    # Convert to numpy arrays \n",
    "    y_true = to_numpy(y_true)\n",
    "    y_pred = to_numpy(y_pred)\n",
    "    \n",
    "    cm = confusion_matrix(y_true, y_pred)\n",
    "    \n",
    "    # Create figure\n",
    "    fig, ax = plt.subplots(figsize=figsize)\n",
    "    \n",
    "    # Create heatmap\n",
    "    sns.heatmap(cm, annot=True, fmt='d', cmap='Blues',\n",
    "                xticklabels=class_names,\n",
    "                yticklabels=class_names,\n",
    "                ax=ax)\n",
    "    \n",
    "    plt.title('Confusion Matrix')\n",
    "    plt.ylabel('True Label')\n",
    "    plt.xlabel('Predicted Label')\n",
    "    plt.tight_layout()\n",
    "    \n",
    "    return fig\n",
    "\n",
    "def plot_per_class_metrics(y_true, y_pred, class_names, figsize=(12, 6)):\n",
    "\n",
    "    y_true = to_numpy(y_true)\n",
    "    y_pred = to_numpy(y_pred)\n",
    "    \n",
    "    # Get classification report as dictionary\n",
    "    report = classification_report(y_true, y_pred, target_names=class_names, output_dict=True)\n",
    "    \n",
    "    # Convert to DataFrame \n",
    "    df = pd.DataFrame({\n",
    "        'Precision': [report[cn]['precision'] for cn in class_names],\n",
    "        'Recall': [report[cn]['recall'] for cn in class_names],\n",
    "        'F1-score': [report[cn]['f1-score'] for cn in class_names]\n",
    "    }, index=class_names)\n",
    "    \n",
    "    # Create figure\n",
    "    fig, ax = plt.subplots(figsize=figsize)\n",
    "    \n",
    "    # Plot grouped bar chart\n",
    "    df.plot(kind='bar', ax=ax)\n",
    "    plt.title('Per-class Performance Metrics')\n",
    "    plt.xlabel('Class')\n",
    "    plt.ylabel('Score')\n",
    "    plt.legend(title='Metric')\n",
    "    plt.grid(True, axis='y')\n",
    "    plt.tight_layout()\n",
    "    \n",
    "    return fig\n",
    "\n",
    "def analyze_model_performance(loss_history,test_loss_history,lr_history, X_test, y_test, class_names, batch_size=100):\n",
    "    \n",
    "    loss_history_cpu = to_numpy(loss_history)\n",
    "    test_loss_history_cpu = to_numpy(test_loss_history)\n",
    "    lr_history_cpu=to_numpy(lr_history)\n",
    "    # Get predictions on test set\n",
    "    num_batches = len(X_test) // batch_size\n",
    "    predictions = []\n",
    "    \n",
    "    print(\"Generating predictions...\")\n",
    "    for i in range(num_batches):\n",
    "        start_idx = i * batch_size\n",
    "        end_idx = start_idx + batch_size\n",
    "        X_batch = X_test[start_idx:end_idx]\n",
    "        \n",
    "        # Forward pass\n",
    "        out = model.forward_pass(X_batch)\n",
    "        y_pred = softmax(out)\n",
    "        pred_labels = cp.argmax(y_pred, axis=1)\n",
    "        predictions.append(pred_labels)\n",
    "    \n",
    "    # Concatenate all predictions\n",
    "    predictions = cp.concatenate(predictions)\n",
    "    \n",
    "    # Convert to numpy for plotting\n",
    "    predictions_cpu = to_numpy(predictions)\n",
    "    y_test_cpu = to_numpy(y_test)[:len(predictions_cpu)]\n",
    "    \n",
    "    # Plot training metrics\n",
    "    print(\"\\nPlotting training loss...\")\n",
    "    plot_training_metrics(loss_history_cpu,test_loss_history_cpu)\n",
    "    plt.show()\n",
    "\n",
    "    print(\"\\nPlotting Learning Rate...\")\n",
    "    plot_lr(lr_history_cpu)\n",
    "    plt.show()\n",
    "    \n",
    "    # Plot confusion matrix\n",
    "    print(\"\\nPlotting confusion matrix...\")\n",
    "    plot_confusion_matrix(y_test_cpu, predictions_cpu, class_names)\n",
    "    plt.show()\n",
    "    \n",
    "    # Plot per-class metrics\n",
    "    print(\"\\nPlotting per-class metrics...\")\n",
    "    plot_per_class_metrics(y_test_cpu, predictions_cpu, class_names)\n",
    "    plt.show()\n",
    "    \n",
    "    # Print classification report\n",
    "    print(\"\\nClassification Report:\")\n",
    "    print(classification_report(y_test_cpu, predictions_cpu, target_names=class_names))\n",
    "    \n",
    "\n",
    "# CIFAR-10 class names\n",
    "cifar10_classes = [\n",
    "    'airplane', 'automobile', 'bird', 'cat', 'deer',\n",
    "    'dog', 'frog', 'horse', 'ship', 'truck'\n",
    "]"
   ]
  },
  {
   "cell_type": "code",
   "execution_count": 48,
   "metadata": {},
   "outputs": [
    {
     "name": "stdout",
     "output_type": "stream",
     "text": [
      "Generating predictions...\n",
      "\n",
      "Plotting training loss...\n"
     ]
    },
    {
     "data": {
      "image/png": "[encoded data removed]",
      "text/plain": [
       "<Figure size 1500x500 with 1 Axes>"
      ]
     },
     "metadata": {},
     "output_type": "display_data"
    },
    {
     "name": "stdout",
     "output_type": "stream",
     "text": [
      "\n",
      "Plotting Learning Rate...\n"
     ]
    },
    {
     "data": {
      "image/png": "[encoded data removed]",
      "text/plain": [
       "<Figure size 1500x500 with 1 Axes>"
      ]
     },
     "metadata": {},
     "output_type": "display_data"
    },
    {
     "name": "stdout",
     "output_type": "stream",
     "text": [
      "\n",
      "Plotting confusion matrix...\n"
     ]
    },
    {
     "data": {
      "image/png": "[encoded data removed]",
      "text/plain": [
       "<Figure size 1000x800 with 2 Axes>"
      ]
     },
     "metadata": {},
     "output_type": "display_data"
    },
    {
     "name": "stdout",
     "output_type": "stream",
     "text": [
      "\n",
      "Plotting per-class metrics...\n"
     ]
    },
    {
     "data": {
      "image/png": "[encoded data removed]",
      "text/plain": [
       "<Figure size 1200x600 with 1 Axes>"
      ]
     },
     "metadata": {},
     "output_type": "display_data"
    },
    {
     "name": "stdout",
     "output_type": "stream",
     "text": [
      "\n",
      "Classification Report:\n",
      "              precision    recall  f1-score   support\n",
      "\n",
      "    airplane       0.84      0.86      0.85      1000\n",
      "  automobile       0.92      0.93      0.92      1000\n",
      "        bird       0.79      0.77      0.78      1000\n",
      "         cat       0.70      0.66      0.68      1000\n",
      "        deer       0.82      0.85      0.83      1000\n",
      "         dog       0.77      0.76      0.76      1000\n",
      "        frog       0.88      0.87      0.87      1000\n",
      "       horse       0.86      0.88      0.87      1000\n",
      "        ship       0.91      0.91      0.91      1000\n",
      "       truck       0.90      0.89      0.89      1000\n",
      "\n",
      "    accuracy                           0.84     10000\n",
      "   macro avg       0.84      0.84      0.84     10000\n",
      "weighted avg       0.84      0.84      0.84     10000\n",
      "\n"
     ]
    }
   ],
   "source": [
    "\n",
    "analyze_model_performance(\n",
    "    loss_history=loss_history,\n",
    "    test_loss_history=test_loss_history,\n",
    "    lr_history=lr_history,\n",
    "    X_test=X_test,\n",
    "    y_test=y_test,\n",
    "    class_names=cifar10_classes\n",
    ")"
   ]
  }
 ],
 "metadata": {
  "kernelspec": {
   "display_name": "Python 3",
   "language": "python",
   "name": "python3"
  },
  "language_info": {
   "codemirror_mode": {
    "name": "ipython",
    "version": 3
   },
   "file_extension": ".py",
   "mimetype": "text/x-python",
   "name": "python",
   "nbconvert_exporter": "python",
   "pygments_lexer": "ipython3",
   "version": "3.10.0"
  }
 },
 "nbformat": 4,
 "nbformat_minor": 2
}
